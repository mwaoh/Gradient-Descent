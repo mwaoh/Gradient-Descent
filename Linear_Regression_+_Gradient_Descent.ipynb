{
  "nbformat": 4,
  "nbformat_minor": 0,
  "metadata": {
    "colab": {
      "provenance": [],
      "authorship_tag": "ABX9TyMOZIDpeDqVDmV9e6pzNb2b",
      "include_colab_link": true
    },
    "kernelspec": {
      "name": "python3",
      "display_name": "Python 3"
    },
    "language_info": {
      "name": "python"
    }
  },
  "cells": [
    {
      "cell_type": "markdown",
      "metadata": {
        "id": "view-in-github",
        "colab_type": "text"
      },
      "source": [
        "<a href=\"https://colab.research.google.com/github/mwaoh/Gradient-Descent/blob/main/Linear_Regression_%2B_Gradient_Descent.ipynb\" target=\"_parent\"><img src=\"https://colab.research.google.com/assets/colab-badge.svg\" alt=\"Open In Colab\"/></a>"
      ]
    },
    {
      "cell_type": "code",
      "execution_count": null,
      "metadata": {
        "id": "TTRh0MIxzBjF"
      },
      "outputs": [],
      "source": [
        "import numpy as np\n",
        "import pandas as pd\n",
        "import scipy.io as sio\n",
        "from sklearn.linear_model import LinearRegression\n",
        "\n",
        "data_path = \"data/traffic_dataset.mat\"\n",
        "\n",
        "# The provided data is given in a `.mat` file.\n",
        "# We can load it using the `scipy.io.loadmat` function.\n",
        "mat = sio.loadmat(data_path)\n",
        "input_train = mat['tra_X_tr']\n",
        "output_train = mat['tra_Y_tr'].T\n",
        "input_test = mat['tra_X_te']\n",
        "output_test = mat['tra_Y_te'].T\n",
        "adj_mat = mat['tra_adj_mat']\n",
        "\n",
        "input_train = input_train.squeeze()\n",
        "input_test = input_test.squeeze()\n",
        "\n",
        "# Convert the sparse matrix to a dense matrix\n",
        "data = []\n",
        "test_data = []\n",
        "\n",
        "for i in range(input_train.shape[0]):\n",
        "    data.append(input_train[i].todense())\n",
        "\n",
        "for i in range(input_test.shape[0]):\n",
        "    test_data.append(input_test[i].todense())\n"
      ]
    },
    {
      "cell_type": "code",
      "source": [
        "# Convert the data to a numpy array\n",
        "data = np.array(data)\n",
        "test_data = np.array(test_data)\n",
        "\n",
        "print(data.shape)\n",
        "print(output_train.shape)"
      ],
      "metadata": {
        "id": "_ApB728bzWk5"
      },
      "execution_count": null,
      "outputs": []
    }
  ]
}